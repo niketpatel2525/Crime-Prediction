{
 "cells": [
  {
   "cell_type": "markdown",
   "metadata": {},
   "source": [
    "### Importing package"
   ]
  },
  {
   "cell_type": "code",
   "execution_count": 1,
   "metadata": {
    "collapsed": false
   },
   "outputs": [],
   "source": [
    "import pandas as pd\n",
    "from collections import Counter\n",
    "from sklearn import preprocessing\n",
    "from sklearn.preprocessing import normalize\n",
    "from sklearn.model_selection import validation_curve\n",
    "from sklearn.tree import DecisionTreeClassifier\n",
    "from sklearn.model_selection import train_test_split\n",
    "from sklearn.metrics import recall_score as recall\n",
    "from sklearn.metrics import precision_score as precision\n",
    "import numpy as np\n",
    "from sklearn.model_selection import cross_val_score\n",
    "from sklearn.naive_bayes import GaussianNB\n",
    "from sklearn import svm\n",
    "from sklearn import linear_model\n",
    "from sklearn.model_selection import cross_val_predict\n",
    "from sklearn.metrics import mean_squared_error\n",
    "from sklearn.preprocessing import PolynomialFeatures\n",
    "from sklearn.tree import export_graphviz\n",
    "import graphviz\n",
    "import pydotplus\n",
    "from IPython.display import Image\n",
    "import matplotlib.pyplot as plt\n",
    "from sklearn import model_selection\n",
    "from sklearn import metrics\n",
    "# Extra Credit\n",
    "\n",
    "from sklearn.ensemble import RandomForestClassifier\n",
    "from sklearn.ensemble import GradientBoostingClassifier"
   ]
  },
  {
   "cell_type": "markdown",
   "metadata": {},
   "source": [
    "### Read Clean Data sets from File"
   ]
  },
  {
   "cell_type": "code",
   "execution_count": 2,
   "metadata": {
    "collapsed": true
   },
   "outputs": [],
   "source": [
    "data = pd.read_csv('C:\\\\Users\\\\nbpat\\\\Desktop\\\\ML Project\\\\communities-crime-clean.csv')"
   ]
  },
  {
   "cell_type": "code",
   "execution_count": 3,
   "metadata": {
    "collapsed": false
   },
   "outputs": [
    {
     "data": {
      "text/plain": [
       "(1993, 104)"
      ]
     },
     "execution_count": 3,
     "metadata": {},
     "output_type": "execute_result"
    }
   ],
   "source": [
    "data.shape"
   ]
  },
  {
   "cell_type": "markdown",
   "metadata": {},
   "source": [
    "# 1. Decision Trees"
   ]
  },
  {
   "cell_type": "markdown",
   "metadata": {},
   "source": [
    "## Que[1(a)] Create a new field “highCrime” which is true if the crime rate per capita (ViolentCrimesPerPop) is greater than 0.1, and false otherwise. "
   ]
  },
  {
   "cell_type": "code",
   "execution_count": 4,
   "metadata": {
    "collapsed": false
   },
   "outputs": [
    {
     "name": "stdout",
     "output_type": "stream",
     "text": [
      "Positive HighCrime Instances: 62.72 % \n",
      "Negative HighCrime Instances:  37.28 %\n"
     ]
    }
   ],
   "source": [
    "data['highCrime'] = (data['ViolentCrimesPerPop']>0.1)\n",
    "c = Counter()\n",
    "c.update(data.highCrime)\n",
    "print (\"Positive HighCrime Instances: %.2f %% \" % (c[True]/len(data.highCrime)*100))\n",
    "print(\"Negative HighCrime Instances:  %.2f %%\" % (c[False]/len(data.highCrime)*100))"
   ]
  },
  {
   "cell_type": "markdown",
   "metadata": {},
   "source": [
    "### removing non predictive features from data frame"
   ]
  },
  {
   "cell_type": "code",
   "execution_count": 5,
   "metadata": {
    "collapsed": false
   },
   "outputs": [],
   "source": [
    "data_copy = data.copy()\n",
    "\n",
    "del data['state']\n",
    "del data['communityname']\n",
    "del data['fold']\n",
    "del data['ViolentCrimesPerPop']\n"
   ]
  },
  {
   "cell_type": "code",
   "execution_count": 6,
   "metadata": {
    "collapsed": false
   },
   "outputs": [],
   "source": [
    "columns = data.columns[:-1]\n",
    "Target = data[data.columns[-1]]\n",
    "data = pd.DataFrame(data,columns=columns)"
   ]
  },
  {
   "cell_type": "markdown",
   "metadata": {},
   "source": [
    "### Finding Depth of the tree to avoid possible overfitting by maximizing cv results\n",
    "\n",
    "#### Graph shows, for max_depth=3, DecisionTreeClassifier gives best cv results"
   ]
  },
  {
   "cell_type": "code",
   "execution_count": 7,
   "metadata": {
    "collapsed": false
   },
   "outputs": [
    {
     "data": {
      "image/png": "[encoded data removed]",
      "text/plain": [
       "<matplotlib.figure.Figure at 0x174cd9a26a0>"
      ]
     },
     "metadata": {},
     "output_type": "display_data"
    }
   ],
   "source": [
    "X_data = data\n",
    "y_target = Target\n",
    "train_data_score, test_data_score = validation_curve(DecisionTreeClassifier(),X_data,y_target,param_name='max_depth',param_range=range(1,10),cv=10,scoring=\"accuracy\")\n",
    "train_score_mean =np.mean(train_data_score, axis=1)\n",
    "test_score_mean =np.mean(test_data_score, axis=1)\n",
    "\n",
    "plt.title(\"Max Depth Validation\")\n",
    "plt.xlabel(\"Depth\")\n",
    "plt.ylabel(\"Accuracy\")\n",
    "lw=2\n",
    "plt.plot(range(1,10),train_score_mean,label=\"Training score\",color=\"RED\",lw=lw)\n",
    "plt.plot(range(1,10),test_score_mean,label=\"Cross-validation score\",color=\"BLUE\",lw=lw)\n",
    "plt.show()"
   ]
  },
  {
   "cell_type": "markdown",
   "metadata": {},
   "source": [
    "### Fitting Data to Decision Tree Classifier"
   ]
  },
  {
   "cell_type": "code",
   "execution_count": 8,
   "metadata": {
    "collapsed": false
   },
   "outputs": [
    {
     "data": {
      "text/plain": [
       "DecisionTreeClassifier(class_weight=None, criterion='gini', max_depth=3,\n",
       "            max_features=None, max_leaf_nodes=None,\n",
       "            min_impurity_split=1e-07, min_samples_leaf=1,\n",
       "            min_samples_split=2, min_weight_fraction_leaf=0.0,\n",
       "            presort=False, random_state=0, splitter='best')"
      ]
     },
     "execution_count": 8,
     "metadata": {},
     "output_type": "execute_result"
    }
   ],
   "source": [
    "tree = DecisionTreeClassifier(random_state=0,max_depth=3)\n",
    "tree.fit(X_data,y_target)"
   ]
  },
  {
   "cell_type": "markdown",
   "metadata": {
    "collapsed": true
   },
   "source": [
    "### b.i Trainig accuracy, Precision and Recall for the DecisionTreeClassifier using Training data"
   ]
  },
  {
   "cell_type": "code",
   "execution_count": 9,
   "metadata": {
    "collapsed": false
   },
   "outputs": [
    {
     "name": "stdout",
     "output_type": "stream",
     "text": [
      "Accuracy on Decision Tree: 0.8359\n",
      "Precision on Decision Tree: 0.9003\n",
      "Recall on Decision Tree: 0.8304\n"
     ]
    }
   ],
   "source": [
    "print(\"Accuracy on Decision Tree: %.4f\"% (tree.score(X_data,y_target)))\n",
    "print(\"Precision on Decision Tree: %.4f\"% (precision(y_target,tree.predict(X_data))))\n",
    "print(\"Recall on Decision Tree: %.4f\"% (recall(y_target,tree.predict(X_data))))"
   ]
  },
  {
   "cell_type": "markdown",
   "metadata": {},
   "source": [
    "### b.ii Main Features used in classification"
   ]
  },
  {
   "cell_type": "code",
   "execution_count": 10,
   "metadata": {
    "collapsed": false,
    "scrolled": true
   },
   "outputs": [
    {
     "name": "stdout",
     "output_type": "stream",
     "text": [
      "Top 10 Features used in classification.\n",
      "\n",
      "\n",
      "1. feature 44 (0.719944)  ==> PctKids2Par\n",
      "2. feature 3 (0.168307)  ==> racePctWhite\n",
      "3. feature 5 (0.091650)  ==> racePctHisp\n",
      "4. feature 71 (0.020099)  ==> HousVacant\n"
     ]
    }
   ],
   "source": [
    "importance_tree = tree.feature_importances_\n",
    "indices_tree = np.argsort(importance_tree)[::-1]\n",
    "print(\"Top 10 Features used in classification.\\n\\n\")\n",
    "for f in range(0,4):\n",
    "    print(\"%d. feature %d (%f)  ==> %s\" % (f + 1, indices_tree[f], importance_tree[indices_tree[f]],data.columns[indices_tree[f]]))"
   ]
  },
  {
   "cell_type": "markdown",
   "metadata": {},
   "source": [
    "### Feature importance graph with (Y=>X) <==>(FeatureName ==> FeatureImportance)"
   ]
  },
  {
   "cell_type": "code",
   "execution_count": 11,
   "metadata": {
    "collapsed": false
   },
   "outputs": [
    {
     "data": {
      "image/png": "[encoded data removed]",
      "text/plain": [
       "<matplotlib.figure.Figure at 0x174cf325f98>"
      ]
     },
     "metadata": {},
     "output_type": "display_data"
    }
   ],
   "source": [
    "x_obj = []\n",
    "for f in range(0,4):\n",
    "    x_obj.append(data.columns[indices_tree[f]])\n",
    "y_pos =np.arange(len(x_obj))\n",
    "y_val =np.sort(importance_tree)[::-1][0:4]\n",
    "\n",
    "plt.barh(y_pos,y_val,align='center',alpha=0.9)\n",
    "plt.yticks(y_pos,x_obj)\n",
    "plt.xlabel(\"Feature Importance\")\n",
    "plt.title(\"Decision Tree Top 10 Features\")\n",
    "\n",
    "plt.show()\n"
   ]
  },
  {
   "cell_type": "markdown",
   "metadata": {},
   "source": [
    "###  Draw Decision Tree Graph"
   ]
  },
  {
   "cell_type": "code",
   "execution_count": 12,
   "metadata": {
    "collapsed": false,
    "scrolled": false
   },
   "outputs": [
    {
     "data": {
      "image/png": "[encoded data removed]",
      "text/plain": [
       "<IPython.core.display.Image object>"
      ]
     },
     "execution_count": 12,
     "metadata": {},
     "output_type": "execute_result"
    }
   ],
   "source": [
    "export_graphviz(tree, out_file=\"tree.dot\", class_names=[\"True\", \"False\"],\n",
    "                feature_names=X_data.columns, impurity=False, filled=True)\n",
    "\n",
    "\n",
    "graph = pydotplus.graph_from_dot_file('tree.dot')\n",
    "#graph.write_png('tree.png')\n",
    "Image(graph.create_png())"
   ]
  },
  {
   "cell_type": "markdown",
   "metadata": {},
   "source": [
    "### c.i Cross Val Score for Decision Tree Classifier using 10-fold CrossValidation"
   ]
  },
  {
   "cell_type": "code",
   "execution_count": 13,
   "metadata": {
    "collapsed": false,
    "scrolled": true
   },
   "outputs": [
    {
     "name": "stdout",
     "output_type": "stream",
     "text": [
      "DecisionTreeClassifier Accuracy : 0.7982 (+/- 0.1183)\n",
      "DecisionTreeClassifier Precision: 0.8433 (+/- 0.1053)\n",
      "DecisionTreeClassifier Recall: 0.8392 (+/- 0.2073)\n"
     ]
    }
   ],
   "source": [
    "tree_accuracy=cross_val_score(tree,X_data,y_target,cv=10)\n",
    "tree_precision = cross_val_score(tree,X_data,y_target,cv=10,scoring='precision')\n",
    "tree_recall =cross_val_score(tree,X_data,y_target,cv=10,scoring='recall')\n",
    "\n",
    "print(\"DecisionTreeClassifier Accuracy : %.4f (+/- %.4f)\"% (tree_accuracy.mean(),tree_accuracy.std()*2))\n",
    "print(\"DecisionTreeClassifier Precision: %.4f (+/- %.4f)\"% (tree_precision.mean(),tree_precision.std()*2))\n",
    "print(\"DecisionTreeClassifier Recall: %.4f (+/- %.4f)\"% (tree_recall.mean(),tree_recall.std()*2))\n"
   ]
  },
  {
   "cell_type": "markdown",
   "metadata": {},
   "source": [
    "## c.ii ii.\tWhy are they different from the results in the previous test?"
   ]
  },
  {
   "cell_type": "markdown",
   "metadata": {
    "collapsed": true
   },
   "source": [
    "## ANS[c.ii]\n",
    "### During the first test case, we fit the DecisionTreeClassifier on whole data sets and we measure accuracy on it. So as there is no bias ( i.e. Overfitting) , it will give us high accuracy, precision and Recall value. But as for the Cross Validation, we have split data to exact 10 fold and trained our model on 9 fold and tested with 1 fold for 10 time by taking each time different training and test data sets. So eventually, there will be bias and it will give accuracy, precision and recall value less than previous one."
   ]
  },
  {
   "cell_type": "markdown",
   "metadata": {},
   "source": [
    "# 2.\tLinear Classification\n",
    "\n",
    "### GaussianNB"
   ]
  },
  {
   "cell_type": "code",
   "execution_count": 14,
   "metadata": {
    "collapsed": false
   },
   "outputs": [
    {
     "data": {
      "text/plain": [
       "GaussianNB(priors=None)"
      ]
     },
     "execution_count": 14,
     "metadata": {},
     "output_type": "execute_result"
    }
   ],
   "source": [
    "gnb_clf =GaussianNB()\n",
    "gnb_clf.fit(X_data,y_target)"
   ]
  },
  {
   "cell_type": "markdown",
   "metadata": {},
   "source": [
    "### (i) The 10-fold cross-validation accuracy, precision, and recall "
   ]
  },
  {
   "cell_type": "code",
   "execution_count": 15,
   "metadata": {
    "collapsed": false
   },
   "outputs": [
    {
     "name": "stdout",
     "output_type": "stream",
     "text": [
      "GaussianNB  Accuracy: 0.762 (+/- 0.108)\n",
      "GaussianNB  Precision: 0.912 (+/- 0.116)\n",
      "GaussianNB  Recall: 0.692 (+/- 0.183)\n"
     ]
    }
   ],
   "source": [
    "accuracy_score = cross_val_score(gnb_clf,X_data,y_target,cv=10)\n",
    "precision_score = cross_val_score(gnb_clf,X_data,y_target,cv=10,scoring='precision')\n",
    "recall_score = cross_val_score(gnb_clf,X_data,y_target,cv=10,scoring='recall')\n",
    "\n",
    "print(\"GaussianNB  Accuracy: %0.3f (+/- %0.3f)\"%(accuracy_score.mean(),accuracy_score.std()*2))\n",
    "print(\"GaussianNB  Precision: %0.3f (+/- %0.3f)\"%(precision_score.mean(),precision_score.std()*2))\n",
    "print(\"GaussianNB  Recall: %0.3f (+/- %0.3f)\"%(recall_score.mean(),recall_score.std()*2))"
   ]
  },
  {
   "cell_type": "markdown",
   "metadata": {},
   "source": [
    "### (ii) The 10 most predictive features"
   ]
  },
  {
   "cell_type": "code",
   "execution_count": 16,
   "metadata": {
    "collapsed": false
   },
   "outputs": [
    {
     "name": "stdout",
     "output_type": "stream",
     "text": [
      "Top 10 GaussianNB Features\n",
      "\n",
      "\n",
      "1. Features 44 (5.001310) => PctKids2Par\n",
      "2. Features 40 (4.756886) => FemalePctDiv\n",
      "3. Features 43 (4.593988) => PctFam2Par\n",
      "4. Features 15 (4.394991) => pctWInvInc\n",
      "5. Features 41 (4.385986) => TotalPctDiv\n",
      "6. Features 46 (3.999354) => PctTeen2Par\n",
      "7. Features 38 (3.950731) => MalePctDivorce\n",
      "8. Features 45 (3.648301) => PctYoungKids2Par\n",
      "9. Features 50 (3.469889) => PctIlleg\n",
      "10. Features 3 (3.443228) => racePctWhite\n"
     ]
    }
   ],
   "source": [
    "top_gnb_features = np.abs(gnb_clf.theta_[0]-gnb_clf.theta_[1])/(gnb_clf.sigma_[0]+gnb_clf.sigma_[1])\n",
    "top_indices_GNB=top_gnb_features.argsort()[::-1]\n",
    "top_gnb_features= np.sort(top_gnb_features)[::-1]\n",
    "print (\"Top 10 GaussianNB Features\\n\\n\")\n",
    "for i in range(0,10):\n",
    "    print(\"%d. Features %d (%f) => %s\"%(i+1,top_indices_GNB[i],top_gnb_features[i],X_data.columns[top_indices_GNB[i]]))\n",
    "    "
   ]
  },
  {
   "cell_type": "markdown",
   "metadata": {},
   "source": [
    "#### Comments: As the (gnb_clf.theta_[0]-gnb_clf.theta_[1])  gives the distance betweet two features, the larger the difference , a feature can be diffrentiated well. That's why, the given equation is able to predict  more predictive features."
   ]
  },
  {
   "cell_type": "markdown",
   "metadata": {},
   "source": [
    "### Feature importance graph with (Y=>X) <==>(FeatureName ==> FeatureImportance)"
   ]
  },
  {
   "cell_type": "code",
   "execution_count": 17,
   "metadata": {
    "collapsed": false
   },
   "outputs": [
    {
     "data": {
      "image/png": "[encoded data removed]",
      "text/plain": [
       "<matplotlib.figure.Figure at 0x174d19ad320>"
      ]
     },
     "metadata": {},
     "output_type": "display_data"
    }
   ],
   "source": [
    "x_obj = []\n",
    "for f in range(0,10):\n",
    "    x_obj.append(data.columns[top_indices_GNB[f]])\n",
    "y_pos =np.arange(len(x_obj))\n",
    "y_val =np.sort(top_gnb_features)[::-1][0:10]\n",
    "\n",
    "plt.barh(y_pos,y_val,align='center',alpha=0.9)\n",
    "plt.yticks(y_pos,x_obj)\n",
    "plt.xlabel(\"Feature Importance\")\n",
    "plt.title(\"GaussianNB Top 10 Features\")\n",
    "\n",
    "plt.show()"
   ]
  },
  {
   "cell_type": "markdown",
   "metadata": {},
   "source": [
    "### (iii) How do these results compare with your results from decision trees, above?"
   ]
  },
  {
   "cell_type": "code",
   "execution_count": 18,
   "metadata": {
    "collapsed": false
   },
   "outputs": [
    {
     "name": "stdout",
     "output_type": "stream",
     "text": [
      "DT: 0.798244 (0.059135)\n",
      "GNB: 0.761608 (0.054241)\n"
     ]
    },
    {
     "data": {
      "image/png": "[encoded data removed]",
      "text/plain": [
       "<matplotlib.figure.Figure at 0x174d196c240>"
      ]
     },
     "metadata": {},
     "output_type": "display_data"
    }
   ],
   "source": [
    "models =[]\n",
    "models.append((\"DT\",DecisionTreeClassifier(max_depth=3)))\n",
    "models.append((\"GNB\",GaussianNB()))\n",
    "\n",
    "results=[]\n",
    "names=[]\n",
    "scoring='accuracy'\n",
    "for name,model in models:\n",
    "    kfold = model_selection.KFold(n_splits=10,random_state=0)\n",
    "    cv_results = model_selection.cross_val_score(model, X_data, y_target, cv=10, scoring=scoring)\n",
    "    results.append(cv_results)\n",
    "    names.append(name)\n",
    "    msg = \"%s: %f (%f)\" % (name, cv_results.mean(), cv_results.std())\n",
    "    print(msg)\n",
    "fig = plt.figure()\n",
    "fig.suptitle('Algorithm Comparison')\n",
    "ax = fig.add_subplot(111)\n",
    "plt.boxplot(results)\n",
    "ax.set_xticklabels(names)\n",
    "plt.show()\n",
    "    \n"
   ]
  },
  {
   "cell_type": "markdown",
   "metadata": {},
   "source": [
    "### Top 10 Predictive Features comparision"
   ]
  },
  {
   "cell_type": "code",
   "execution_count": 19,
   "metadata": {
    "collapsed": false
   },
   "outputs": [
    {
     "name": "stdout",
     "output_type": "stream",
     "text": [
      "1  . GaussianNB Feature:( 44)   PctKids2Par          \t DecisionTreeClassifier ( 44)  PctKids2Par         \n",
      "2  . GaussianNB Feature:( 40)   FemalePctDiv         \t DecisionTreeClassifier (  3)  racePctWhite        \n",
      "3  . GaussianNB Feature:( 43)   PctFam2Par           \t DecisionTreeClassifier (  5)  racePctHisp         \n",
      "4  . GaussianNB Feature:( 15)   pctWInvInc           \t DecisionTreeClassifier ( 71)  HousVacant          \n",
      "5  . GaussianNB Feature:( 41)   TotalPctDiv          \t DecisionTreeClassifier ( 99)  LemasPctOfficDrugUn \n",
      "6  . GaussianNB Feature:( 46)   PctTeen2Par          \t DecisionTreeClassifier ( 35)  PctEmplProfServ     \n",
      "7  . GaussianNB Feature:( 38)   MalePctDivorce       \t DecisionTreeClassifier ( 27)  NumUnderPov         \n",
      "8  . GaussianNB Feature:( 45)   PctYoungKids2Par     \t DecisionTreeClassifier ( 28)  PctPopUnderPov      \n",
      "9  . GaussianNB Feature:( 50)   PctIlleg             \t DecisionTreeClassifier ( 29)  PctLess9thGrade     \n",
      "10 . GaussianNB Feature:(  3)   racePctWhite         \t DecisionTreeClassifier ( 30)  PctNotHSGrad        \n"
     ]
    }
   ],
   "source": [
    "for i in range(0,10):   \n",
    "    print(\"%-3d. GaussianNB Feature:(%3d)   %-20s \\t DecisionTreeClassifier (%3d)  %-20s\"%(i+1,top_indices_GNB[i],X_data.columns[top_indices_GNB[i]], indices_tree[i],data.columns[indices_tree[i]]))"
   ]
  },
  {
   "cell_type": "markdown",
   "metadata": {},
   "source": [
    "### Comparision Results:\n",
    "#### By comparing GaussianNB and DecisionTreeClassifier, DecisionTreeClassifier gives better accuracy on dataset. and PctKids2Par is the same most predictive features in both the model"
   ]
  },
  {
   "cell_type": "markdown",
   "metadata": {},
   "source": [
    "### LinearSVC "
   ]
  },
  {
   "cell_type": "code",
   "execution_count": 20,
   "metadata": {
    "collapsed": false
   },
   "outputs": [
    {
     "data": {
      "text/plain": [
       "LinearSVC(C=1.0, class_weight=None, dual=True, fit_intercept=True,\n",
       "     intercept_scaling=1, loss='squared_hinge', max_iter=1000,\n",
       "     multi_class='ovr', penalty='l2', random_state=None, tol=0.0001,\n",
       "     verbose=0)"
      ]
     },
     "execution_count": 20,
     "metadata": {},
     "output_type": "execute_result"
    }
   ],
   "source": [
    "\n",
    "svm_clf = svm.LinearSVC()\n",
    "svm_clf.fit(X_data,y_target)"
   ]
  },
  {
   "cell_type": "markdown",
   "metadata": {},
   "source": [
    "### (i) The 10-fold cross-validation accuracy, precision, and recall "
   ]
  },
  {
   "cell_type": "code",
   "execution_count": 21,
   "metadata": {
    "collapsed": false
   },
   "outputs": [
    {
     "name": "stdout",
     "output_type": "stream",
     "text": [
      "LinearSVC  Accuracy: 0.796 (+/- 0.109)\n",
      "LinearSVC  Precision: 0.845 (+/- 0.100)\n",
      "LinearSVC  Recall: 0.834 (+/- 0.233)\n"
     ]
    }
   ],
   "source": [
    "accuracy_score = cross_val_score(svm_clf,X_data,y_target,cv=10)\n",
    "precision_score = cross_val_score(svm_clf,X_data,y_target,cv=10,scoring='precision')\n",
    "recall_score = cross_val_score(svm_clf,X_data,y_target,cv=10,scoring='recall')\n",
    "\n",
    "print(\"LinearSVC  Accuracy: %0.3f (+/- %0.3f)\"%(accuracy_score.mean(),accuracy_score.std()*2))\n",
    "print(\"LinearSVC  Precision: %0.3f (+/- %0.3f)\"%(precision_score.mean(),precision_score.std()*2))\n",
    "print(\"LinearSVC  Recall: %0.3f (+/- %0.3f)\"%(recall_score.mean(),recall_score.std()*2))"
   ]
  },
  {
   "cell_type": "markdown",
   "metadata": {},
   "source": [
    "### (ii) The 10 most predictive features"
   ]
  },
  {
   "cell_type": "code",
   "execution_count": 22,
   "metadata": {
    "collapsed": false
   },
   "outputs": [
    {
     "name": "stdout",
     "output_type": "stream",
     "text": [
      "Top 10 LinearSVC Features\n",
      "\n",
      "\n",
      "1. Features 15 (1.888487) => pctWInvInc\n",
      "2. Features 64 (1.755126) => PersPerOccupHous\n",
      "3. Features 3 (1.500219) => racePctWhite\n",
      "4. Features 44 (1.190329) => PctKids2Par\n",
      "5. Features 84 (1.066884) => RentHighQ\n",
      "6. Features 38 (1.065696) => MalePctDivorce\n",
      "7. Features 27 (1.051548) => NumUnderPov\n",
      "8. Features 90 (1.019155) => NumStreet\n",
      "9. Features 37 (1.014672) => PctOccupMgmtProf\n",
      "10. Features 0 (1.002301) => population\n"
     ]
    }
   ],
   "source": [
    "top_svm_features=np.abs(svm_clf.coef_)\n",
    "top_svm_features = top_svm_features.flatten()\n",
    "\n",
    "top_indices_SVM = top_svm_features.argsort()[::-1]\n",
    "top_svm_features = np.sort(top_svm_features)[::-1]\n",
    "print (\"Top 10 LinearSVC Features\\n\\n\")\n",
    "for i in range(0,10):\n",
    "    print(\"%d. Features %d (%f) => %s\"%(i+1,top_indices_SVM[i],top_svm_features[i],X_data.columns[top_indices_SVM[i]]))"
   ]
  },
  {
   "cell_type": "markdown",
   "metadata": {},
   "source": [
    "#### Comments: As the Coef is the weight assigend to each features in Linear Model, higher the weight value, more predictive the feature. "
   ]
  },
  {
   "cell_type": "markdown",
   "metadata": {},
   "source": [
    "### Feature importance graph with (Y=>X) <==>(FeatureName ==> FeatureImportance)"
   ]
  },
  {
   "cell_type": "code",
   "execution_count": 23,
   "metadata": {
    "collapsed": false
   },
   "outputs": [
    {
     "data": {
      "image/png": "[encoded data removed]",
      "text/plain": [
       "<matplotlib.figure.Figure at 0x174d1a1fd68>"
      ]
     },
     "metadata": {},
     "output_type": "display_data"
    }
   ],
   "source": [
    "x_obj = []\n",
    "for f in range(0,10):\n",
    "    x_obj.append(data.columns[top_indices_SVM[f]])\n",
    "y_pos =np.arange(len(x_obj))\n",
    "y_val =np.sort(top_svm_features)[::-1][0:10]\n",
    "\n",
    "plt.barh(y_pos,y_val,align='center',alpha=0.9)\n",
    "plt.yticks(y_pos,x_obj)\n",
    "plt.xlabel(\"Feature Importance\")\n",
    "plt.title(\"LinearSVC Top 10 Features\")\n",
    "\n",
    "plt.show()"
   ]
  },
  {
   "cell_type": "markdown",
   "metadata": {},
   "source": [
    "### (iii) Compare Result with DecisionTreeClassifier\n",
    "\n",
    "#### from the whisker  plot graph, LinearSVC gives better accuracy on data sets"
   ]
  },
  {
   "cell_type": "code",
   "execution_count": 24,
   "metadata": {
    "collapsed": false
   },
   "outputs": [
    {
     "name": "stdout",
     "output_type": "stream",
     "text": [
      "DT: 0.727995 (0.052858)\n",
      "SVM: 0.796234 (0.054686)\n"
     ]
    },
    {
     "data": {
      "image/png": "[encoded data removed]",
      "text/plain": [
       "<matplotlib.figure.Figure at 0x174d1944a20>"
      ]
     },
     "metadata": {},
     "output_type": "display_data"
    }
   ],
   "source": [
    "models =[]\n",
    "models.append((\"DT\",DecisionTreeClassifier()))\n",
    "models.append((\"SVM\",svm.LinearSVC()))\n",
    "\n",
    "results=[]\n",
    "names=[]\n",
    "scoring='accuracy'\n",
    "for name,model in models:\n",
    "    kfold = model_selection.KFold(n_splits=10,random_state=0)\n",
    "    cv_results = model_selection.cross_val_score(model, X_data, y_target, cv=10, scoring=scoring)\n",
    "    results.append(cv_results)\n",
    "    names.append(name)\n",
    "    msg = \"%s: %f (%f)\" % (name, cv_results.mean(), cv_results.std())\n",
    "    print(msg)\n",
    "fig = plt.figure()\n",
    "fig.suptitle('Algorithm Comparison')\n",
    "ax = fig.add_subplot(111)\n",
    "plt.boxplot(results)\n",
    "ax.set_xticklabels(names)\n",
    "plt.show()\n",
    "    \n"
   ]
  },
  {
   "cell_type": "markdown",
   "metadata": {},
   "source": [
    "### Top 10 Predictive feature comparision"
   ]
  },
  {
   "cell_type": "code",
   "execution_count": 25,
   "metadata": {
    "collapsed": false
   },
   "outputs": [
    {
     "name": "stdout",
     "output_type": "stream",
     "text": [
      "1  . LinearSVC Feature:( 15)   pctWInvInc           \t DecisionTreeClassifier ( 44)  PctKids2Par         \n",
      "2  . LinearSVC Feature:( 64)   PersPerOccupHous     \t DecisionTreeClassifier (  3)  racePctWhite        \n",
      "3  . LinearSVC Feature:(  3)   racePctWhite         \t DecisionTreeClassifier (  5)  racePctHisp         \n",
      "4  . LinearSVC Feature:( 44)   PctKids2Par          \t DecisionTreeClassifier ( 71)  HousVacant          \n",
      "5  . LinearSVC Feature:( 84)   RentHighQ            \t DecisionTreeClassifier ( 99)  LemasPctOfficDrugUn \n",
      "6  . LinearSVC Feature:( 38)   MalePctDivorce       \t DecisionTreeClassifier ( 35)  PctEmplProfServ     \n",
      "7  . LinearSVC Feature:( 27)   NumUnderPov          \t DecisionTreeClassifier ( 27)  NumUnderPov         \n",
      "8  . LinearSVC Feature:( 90)   NumStreet            \t DecisionTreeClassifier ( 28)  PctPopUnderPov      \n",
      "9  . LinearSVC Feature:( 37)   PctOccupMgmtProf     \t DecisionTreeClassifier ( 29)  PctLess9thGrade     \n",
      "10 . LinearSVC Feature:(  0)   population           \t DecisionTreeClassifier ( 30)  PctNotHSGrad        \n"
     ]
    }
   ],
   "source": [
    "for i in range(0,10):   \n",
    "    print(\"%-3d. LinearSVC Feature:(%3d)   %-20s \\t DecisionTreeClassifier (%3d)  %-20s\"%(i+1,top_indices_SVM[i],X_data.columns[top_indices_SVM[i]], indices_tree[i],data.columns[indices_tree[i]]))"
   ]
  },
  {
   "cell_type": "markdown",
   "metadata": {},
   "source": [
    "### Comparision Results\n",
    "#### By comparing LinearSVC with DecisionTreeClassifier,  LinearSVC gives better results and   PctKids2Par and racePctWhite both are common most top 10 important features in the model"
   ]
  },
  {
   "cell_type": "markdown",
   "metadata": {},
   "source": [
    "# 3.\tRegression\n",
    "\n",
    "### LinearRegression "
   ]
  },
  {
   "cell_type": "code",
   "execution_count": 69,
   "metadata": {
    "collapsed": false
   },
   "outputs": [
    {
     "data": {
      "text/plain": [
       "LinearRegression(copy_X=True, fit_intercept=True, n_jobs=1, normalize=False)"
      ]
     },
     "execution_count": 69,
     "metadata": {},
     "output_type": "execute_result"
    }
   ],
   "source": [
    "y_target_violentCrimesPerPop = data_copy['ViolentCrimesPerPop']\n",
    "lr_clf = linear_model.LinearRegression()\n",
    "lr_clf.fit(X_data,y_target_violentCrimesPerPop)"
   ]
  },
  {
   "cell_type": "markdown",
   "metadata": {},
   "source": [
    "### (i) Using 10-fold cross-validation, the estimated mean-squared-error (MSE) "
   ]
  },
  {
   "cell_type": "code",
   "execution_count": 70,
   "metadata": {
    "collapsed": false
   },
   "outputs": [
    {
     "name": "stdout",
     "output_type": "stream",
     "text": [
      "The estimated mean-squared-error (MSE): 0.020103 \n"
     ]
    }
   ],
   "source": [
    "y_lr_predict = cross_val_predict(lr_clf,X_data,y_target_violentCrimesPerPop,cv=10)\n",
    "\n",
    "pt_x1 = mean_squared_error(y_target_violentCrimesPerPop,y_lr_predict)\n",
    "print(\"The estimated mean-squared-error (MSE): %f \"%(pt_x1))"
   ]
  },
  {
   "cell_type": "markdown",
   "metadata": {},
   "source": [
    "### (ii) The MSE on the training set "
   ]
  },
  {
   "cell_type": "code",
   "execution_count": 71,
   "metadata": {
    "collapsed": false
   },
   "outputs": [
    {
     "name": "stdout",
     "output_type": "stream",
     "text": [
      "The estimated mean-squared-error (MSE): 0.016517 \n"
     ]
    }
   ],
   "source": [
    "y_lr_train_predict = lr_clf.predict(X_data)\n",
    "print(\"The estimated mean-squared-error (MSE): %f \"%(mean_squared_error(y_target_violentCrimesPerPop,y_lr_train_predict)))"
   ]
  },
  {
   "cell_type": "markdown",
   "metadata": {},
   "source": [
    "### (iii) Top 10 predictive features of a high crime rate\n",
    "\n",
    "### So most Predictive Features in High Crime Rate is PersPerOccupHous"
   ]
  },
  {
   "cell_type": "code",
   "execution_count": 72,
   "metadata": {
    "collapsed": false
   },
   "outputs": [
    {
     "name": "stdout",
     "output_type": "stream",
     "text": [
      "Top 10 Features for High Crime Rate:\n",
      " 1. Features:    PersPerOccupHous\n",
      " 2. Features:    PctHousOwnOcc\n",
      " 3. Features:    MalePctDivorce\n",
      " 4. Features:    PctRecImmig8\n",
      " 5. Features:    MedRent\n",
      " 6. Features:    medFamInc\n",
      " 7. Features:    PctEmploy\n",
      " 8. Features:    MalePctNevMarr\n",
      " 9. Features:    PctPersDenseHous\n",
      "10. Features:    OwnOccMedVal\n"
     ]
    }
   ],
   "source": [
    "lr_coeff_high_crime = np.argsort(lr_clf.coef_)[::-1]\n",
    "print(\"Top 10 Features for High Crime Rate:\")\n",
    "for i in range(0,10):\n",
    "    print(\"%2d. Features:    %s\"%(i+1, X_data.columns[lr_coeff_high_crime[i]]))"
   ]
  },
  {
   "cell_type": "markdown",
   "metadata": {},
   "source": [
    "### (iii) Top 10 predictive features of a low crime rate\n",
    "\n",
    "#### So most Predictive features of a low crime rate is  PctPersOwnOccup"
   ]
  },
  {
   "cell_type": "code",
   "execution_count": 74,
   "metadata": {
    "collapsed": false
   },
   "outputs": [
    {
     "name": "stdout",
     "output_type": "stream",
     "text": [
      "Top 10 Features for Low Crime Rate:\n",
      " 1. Features:  PctPersOwnOccup\n",
      " 2. Features:  TotalPctDiv\n",
      " 3. Features:  whitePerCap\n",
      " 4. Features:  PctKids2Par\n",
      " 5. Features:  OwnOccLowQuart\n",
      " 6. Features:  numbUrban\n",
      " 7. Features:  PersPerRentOccHous\n",
      " 8. Features:  RentLowQ\n",
      " 9. Features:  agePct12t29\n",
      "10. Features:  PctRecImmig5\n"
     ]
    }
   ],
   "source": [
    "lr_coeff_low_crime  = np.argsort(lr_clf.coef_)\n",
    "print(\"Top 10 Features for Low Crime Rate:\")\n",
    "for i in range(0,10):\n",
    "    print(\"%2d. Features:  %s\"%(i+1, X_data.columns[lr_coeff_low_crime[i]]))"
   ]
  },
  {
   "cell_type": "markdown",
   "metadata": {},
   "source": [
    "###  Ridge Regression"
   ]
  },
  {
   "cell_type": "code",
   "execution_count": 75,
   "metadata": {
    "collapsed": false
   },
   "outputs": [
    {
     "name": "stdout",
     "output_type": "stream",
     "text": [
      "Best Alpha Among [10, 1, 0.1, 0.01, and 0.001] is  1.000\n"
     ]
    }
   ],
   "source": [
    "red_regcv_clf = linear_model.RidgeCV(alphas=[10, 1, 0.1, 0.01, 0.001])\n",
    "red_regcv_clf.fit(X_data,y_target_violentCrimesPerPop)\n",
    "print(\"Best Alpha Among [10, 1, 0.1, 0.01, and 0.001] is  %.3f\"%(red_regcv_clf.alpha_))"
   ]
  },
  {
   "cell_type": "markdown",
   "metadata": {},
   "source": [
    "### Ridge Regression using RidgeCV alpha value =1.0"
   ]
  },
  {
   "cell_type": "code",
   "execution_count": 76,
   "metadata": {
    "collapsed": false
   },
   "outputs": [
    {
     "data": {
      "text/plain": [
       "Ridge(alpha=1.0, copy_X=True, fit_intercept=True, max_iter=None,\n",
       "   normalize=False, random_state=None, solver='auto', tol=0.001)"
      ]
     },
     "execution_count": 76,
     "metadata": {},
     "output_type": "execute_result"
    }
   ],
   "source": [
    "red_reg_clf = linear_model.Ridge(alpha=1.0)\n",
    "red_reg_clf.fit(X_data,y_target_violentCrimesPerPop)"
   ]
  },
  {
   "cell_type": "markdown",
   "metadata": {},
   "source": [
    "### (i) The estimated MSE of the model under 10-fold CV"
   ]
  },
  {
   "cell_type": "code",
   "execution_count": 77,
   "metadata": {
    "collapsed": false
   },
   "outputs": [
    {
     "name": "stdout",
     "output_type": "stream",
     "text": [
      "The estimated mean-squared-error (MSE): 0.019804 \n"
     ]
    }
   ],
   "source": [
    "y_red_reg_predict = cross_val_predict(red_reg_clf,X_data,y_target_violentCrimesPerPop,cv=10)\n",
    "print(\"The estimated mean-squared-error (MSE): %f \"%(mean_squared_error(y_target_violentCrimesPerPop,y_red_reg_predict)))"
   ]
  },
  {
   "cell_type": "markdown",
   "metadata": {},
   "source": [
    "### (ii) The MSE on the training set "
   ]
  },
  {
   "cell_type": "code",
   "execution_count": 78,
   "metadata": {
    "collapsed": false
   },
   "outputs": [
    {
     "name": "stdout",
     "output_type": "stream",
     "text": [
      "The estimated mean-squared-error (MSE): 0.016764 \n"
     ]
    }
   ],
   "source": [
    "y_red_reg_train_predict = red_reg_clf.predict(X_data)\n",
    "print(\"The estimated mean-squared-error (MSE): %f \"%(mean_squared_error(y_target_violentCrimesPerPop,y_red_reg_train_predict)))"
   ]
  },
  {
   "cell_type": "markdown",
   "metadata": {},
   "source": [
    "### (iii) Best Alpha"
   ]
  },
  {
   "cell_type": "code",
   "execution_count": 79,
   "metadata": {
    "collapsed": false
   },
   "outputs": [
    {
     "name": "stdout",
     "output_type": "stream",
     "text": [
      "Best Alpha Among [10, 1, 0.1, 0.01, and 0.001] is  1.000\n"
     ]
    }
   ],
   "source": [
    "print(\"Best Alpha Among [10, 1, 0.1, 0.01, and 0.001] is  %.3f\"%(red_regcv_clf.alpha_))"
   ]
  },
  {
   "cell_type": "markdown",
   "metadata": {},
   "source": [
    "### (iv).\tWhat does this say about the amount of overfitting in linear regression for this problem?"
   ]
  },
  {
   "cell_type": "markdown",
   "metadata": {
    "collapsed": true
   },
   "source": [
    "#### As here MSE for 10-fold CV is less for Ridge regression, it will reduce overfitting compare to linear regression model"
   ]
  },
  {
   "cell_type": "markdown",
   "metadata": {},
   "source": [
    "## polynomial features "
   ]
  },
  {
   "cell_type": "code",
   "execution_count": 36,
   "metadata": {
    "collapsed": true
   },
   "outputs": [],
   "source": [
    "poly_clf = PolynomialFeatures(degree=2)\n",
    "poly_data = poly_clf.fit_transform(X_data)"
   ]
  },
  {
   "cell_type": "markdown",
   "metadata": {},
   "source": [
    "### (i) The estimated MSE of the model under 10-fold CV"
   ]
  },
  {
   "cell_type": "code",
   "execution_count": 37,
   "metadata": {
    "collapsed": false
   },
   "outputs": [
    {
     "name": "stdout",
     "output_type": "stream",
     "text": [
      "The estimated MSE of the model under 10-fold CV: 0.129898\n"
     ]
    }
   ],
   "source": [
    "lr_clf.fit(poly_data,y_target_violentCrimesPerPop)\n",
    "\n",
    "y_poly_predict = cross_val_score(lr_clf,poly_data,y_target_violentCrimesPerPop,cv=10,scoring='neg_mean_squared_error')\n",
    "\n",
    "pt_x2 =y_poly_predict.mean()*-1\n",
    "print(\"The estimated MSE of the model under 10-fold CV: %f\"%(pt_x2))"
   ]
  },
  {
   "cell_type": "markdown",
   "metadata": {},
   "source": [
    "### (ii) The MSE on the training set "
   ]
  },
  {
   "cell_type": "code",
   "execution_count": 38,
   "metadata": {
    "collapsed": false
   },
   "outputs": [
    {
     "name": "stdout",
     "output_type": "stream",
     "text": [
      "The estimated mean-squared-error (MSE): 0.000000 \n"
     ]
    }
   ],
   "source": [
    "y_poly_predict = lr_clf.predict(poly_data)\n",
    "\n",
    "print(\"The estimated mean-squared-error (MSE): %f \"%(mean_squared_error(y_target_violentCrimesPerPop,y_poly_predict)))"
   ]
  },
  {
   "cell_type": "markdown",
   "metadata": {},
   "source": [
    "### iii.\tDoes this mean the quadratic model is better than the linear model for this problem?\n",
    "\n",
    "\n",
    "#### By comparing both the MSE, quadratic model will give overfitting. As with increasing the degree of polynomial, it will accomodate more data compare to linear model. So Quadratic Model is not better than linear model"
   ]
  },
  {
   "cell_type": "markdown",
   "metadata": {},
   "source": [
    "# 4. Dirty Data"
   ]
  },
  {
   "cell_type": "markdown",
   "metadata": {},
   "source": [
    "### Read dirty Data from CSV file\n",
    "\n",
    "#### In dirty data '?' represent NaN value. Replaced '?' with NaN  using pandas dataframe at the time of reading data"
   ]
  },
  {
   "cell_type": "code",
   "execution_count": 39,
   "metadata": {
    "collapsed": false
   },
   "outputs": [],
   "source": [
    "dirty_data = pd.read_csv('C:\\\\Users\\\\nbpat\\\\Desktop\\\\ML Project\\\\communities-crime-full.csv',na_values=['?'])"
   ]
  },
  {
   "cell_type": "markdown",
   "metadata": {},
   "source": [
    "### Replace NaN value with the Decimal mean value of county and community column as those column represent county and community code\n",
    "\n",
    "### For rest of the column, replace NaN values with the mean value of the respective column"
   ]
  },
  {
   "cell_type": "code",
   "execution_count": 40,
   "metadata": {
    "collapsed": false
   },
   "outputs": [],
   "source": [
    "dirty_data_copy = dirty_data.copy()\n",
    "\n",
    "\n",
    "del dirty_data['state']\n",
    "del dirty_data['community']\n",
    "del dirty_data['county']\n",
    "del dirty_data['communityname']\n",
    "del dirty_data['fold']\n",
    "\n",
    "\n",
    "\n",
    "for i in dirty_data:\n",
    "    if (dirty_data[i].dtypes!=object):\n",
    "        dirty_data[i].fillna(dirty_data[i].mean(),inplace=True)"
   ]
  },
  {
   "cell_type": "code",
   "execution_count": 41,
   "metadata": {
    "collapsed": false
   },
   "outputs": [
    {
     "data": {
      "text/html": [
       "<div>\n",
       "<table border=\"1\" class=\"dataframe\">\n",
       "  <thead>\n",
       "    <tr style=\"text-align: right;\">\n",
       "      <th></th>\n",
       "      <th>population</th>\n",
       "      <th>householdsize</th>\n",
       "      <th>racepctblack</th>\n",
       "      <th>racePctWhite</th>\n",
       "      <th>racePctAsian</th>\n",
       "      <th>racePctHisp</th>\n",
       "      <th>agePct12t21</th>\n",
       "      <th>agePct12t29</th>\n",
       "      <th>agePct16t24</th>\n",
       "      <th>agePct65up</th>\n",
       "      <th>...</th>\n",
       "      <th>LandArea</th>\n",
       "      <th>PopDens</th>\n",
       "      <th>PctUsePubTrans</th>\n",
       "      <th>PolicCars</th>\n",
       "      <th>PolicOperBudg</th>\n",
       "      <th>LemasPctPolicOnPatr</th>\n",
       "      <th>LemasGangUnitDeploy</th>\n",
       "      <th>LemasPctOfficDrugUn</th>\n",
       "      <th>PolicBudgPerPop</th>\n",
       "      <th>ViolentCrimesPerPop</th>\n",
       "    </tr>\n",
       "  </thead>\n",
       "  <tbody>\n",
       "    <tr>\n",
       "      <th>0</th>\n",
       "      <td>0.19</td>\n",
       "      <td>0.33</td>\n",
       "      <td>0.02</td>\n",
       "      <td>0.90</td>\n",
       "      <td>0.12</td>\n",
       "      <td>0.17</td>\n",
       "      <td>0.34</td>\n",
       "      <td>0.47</td>\n",
       "      <td>0.29</td>\n",
       "      <td>0.32</td>\n",
       "      <td>...</td>\n",
       "      <td>0.12</td>\n",
       "      <td>0.26</td>\n",
       "      <td>0.20</td>\n",
       "      <td>0.060000</td>\n",
       "      <td>0.040000</td>\n",
       "      <td>0.900000</td>\n",
       "      <td>0.500000</td>\n",
       "      <td>0.32</td>\n",
       "      <td>0.140000</td>\n",
       "      <td>0.20</td>\n",
       "    </tr>\n",
       "    <tr>\n",
       "      <th>1</th>\n",
       "      <td>0.00</td>\n",
       "      <td>0.16</td>\n",
       "      <td>0.12</td>\n",
       "      <td>0.74</td>\n",
       "      <td>0.45</td>\n",
       "      <td>0.07</td>\n",
       "      <td>0.26</td>\n",
       "      <td>0.59</td>\n",
       "      <td>0.35</td>\n",
       "      <td>0.27</td>\n",
       "      <td>...</td>\n",
       "      <td>0.02</td>\n",
       "      <td>0.12</td>\n",
       "      <td>0.45</td>\n",
       "      <td>0.163103</td>\n",
       "      <td>0.076708</td>\n",
       "      <td>0.698589</td>\n",
       "      <td>0.440439</td>\n",
       "      <td>0.00</td>\n",
       "      <td>0.195078</td>\n",
       "      <td>0.67</td>\n",
       "    </tr>\n",
       "    <tr>\n",
       "      <th>2</th>\n",
       "      <td>0.00</td>\n",
       "      <td>0.42</td>\n",
       "      <td>0.49</td>\n",
       "      <td>0.56</td>\n",
       "      <td>0.17</td>\n",
       "      <td>0.04</td>\n",
       "      <td>0.39</td>\n",
       "      <td>0.47</td>\n",
       "      <td>0.28</td>\n",
       "      <td>0.32</td>\n",
       "      <td>...</td>\n",
       "      <td>0.01</td>\n",
       "      <td>0.21</td>\n",
       "      <td>0.02</td>\n",
       "      <td>0.163103</td>\n",
       "      <td>0.076708</td>\n",
       "      <td>0.698589</td>\n",
       "      <td>0.440439</td>\n",
       "      <td>0.00</td>\n",
       "      <td>0.195078</td>\n",
       "      <td>0.43</td>\n",
       "    </tr>\n",
       "    <tr>\n",
       "      <th>3</th>\n",
       "      <td>0.04</td>\n",
       "      <td>0.77</td>\n",
       "      <td>1.00</td>\n",
       "      <td>0.08</td>\n",
       "      <td>0.12</td>\n",
       "      <td>0.10</td>\n",
       "      <td>0.51</td>\n",
       "      <td>0.50</td>\n",
       "      <td>0.34</td>\n",
       "      <td>0.21</td>\n",
       "      <td>...</td>\n",
       "      <td>0.02</td>\n",
       "      <td>0.39</td>\n",
       "      <td>0.28</td>\n",
       "      <td>0.163103</td>\n",
       "      <td>0.076708</td>\n",
       "      <td>0.698589</td>\n",
       "      <td>0.440439</td>\n",
       "      <td>0.00</td>\n",
       "      <td>0.195078</td>\n",
       "      <td>0.12</td>\n",
       "    </tr>\n",
       "    <tr>\n",
       "      <th>4</th>\n",
       "      <td>0.01</td>\n",
       "      <td>0.55</td>\n",
       "      <td>0.02</td>\n",
       "      <td>0.95</td>\n",
       "      <td>0.09</td>\n",
       "      <td>0.05</td>\n",
       "      <td>0.38</td>\n",
       "      <td>0.38</td>\n",
       "      <td>0.23</td>\n",
       "      <td>0.36</td>\n",
       "      <td>...</td>\n",
       "      <td>0.04</td>\n",
       "      <td>0.09</td>\n",
       "      <td>0.02</td>\n",
       "      <td>0.163103</td>\n",
       "      <td>0.076708</td>\n",
       "      <td>0.698589</td>\n",
       "      <td>0.440439</td>\n",
       "      <td>0.00</td>\n",
       "      <td>0.195078</td>\n",
       "      <td>0.03</td>\n",
       "    </tr>\n",
       "  </tbody>\n",
       "</table>\n",
       "<p>5 rows × 123 columns</p>\n",
       "</div>"
      ],
      "text/plain": [
       "   population  householdsize  racepctblack  racePctWhite  racePctAsian  \\\n",
       "0        0.19           0.33          0.02          0.90          0.12   \n",
       "1        0.00           0.16          0.12          0.74          0.45   \n",
       "2        0.00           0.42          0.49          0.56          0.17   \n",
       "3        0.04           0.77          1.00          0.08          0.12   \n",
       "4        0.01           0.55          0.02          0.95          0.09   \n",
       "\n",
       "   racePctHisp  agePct12t21  agePct12t29  agePct16t24  agePct65up  \\\n",
       "0         0.17         0.34         0.47         0.29        0.32   \n",
       "1         0.07         0.26         0.59         0.35        0.27   \n",
       "2         0.04         0.39         0.47         0.28        0.32   \n",
       "3         0.10         0.51         0.50         0.34        0.21   \n",
       "4         0.05         0.38         0.38         0.23        0.36   \n",
       "\n",
       "          ...           LandArea  PopDens  PctUsePubTrans  PolicCars  \\\n",
       "0         ...               0.12     0.26            0.20   0.060000   \n",
       "1         ...               0.02     0.12            0.45   0.163103   \n",
       "2         ...               0.01     0.21            0.02   0.163103   \n",
       "3         ...               0.02     0.39            0.28   0.163103   \n",
       "4         ...               0.04     0.09            0.02   0.163103   \n",
       "\n",
       "   PolicOperBudg  LemasPctPolicOnPatr  LemasGangUnitDeploy  \\\n",
       "0       0.040000             0.900000             0.500000   \n",
       "1       0.076708             0.698589             0.440439   \n",
       "2       0.076708             0.698589             0.440439   \n",
       "3       0.076708             0.698589             0.440439   \n",
       "4       0.076708             0.698589             0.440439   \n",
       "\n",
       "   LemasPctOfficDrugUn  PolicBudgPerPop  ViolentCrimesPerPop  \n",
       "0                 0.32         0.140000                 0.20  \n",
       "1                 0.00         0.195078                 0.67  \n",
       "2                 0.00         0.195078                 0.43  \n",
       "3                 0.00         0.195078                 0.12  \n",
       "4                 0.00         0.195078                 0.03  \n",
       "\n",
       "[5 rows x 123 columns]"
      ]
     },
     "execution_count": 41,
     "metadata": {},
     "output_type": "execute_result"
    }
   ],
   "source": [
    "dirty_data.head()"
   ]
  },
  {
   "cell_type": "markdown",
   "metadata": {},
   "source": [
    "### Creating New Field HighCrime in  based on  value of 'ViolentCrimesPerPop' "
   ]
  },
  {
   "cell_type": "code",
   "execution_count": 42,
   "metadata": {
    "collapsed": false
   },
   "outputs": [
    {
     "name": "stdout",
     "output_type": "stream",
     "text": [
      "Positive HighCrime Instances: 62.74 %\n",
      "Negative HighCrime Instances:  37.26 %\n"
     ]
    }
   ],
   "source": [
    "dirty_data['highCrime'] = (dirty_data[dirty_data.columns[-1]]>0.1)\n",
    "c = Counter()\n",
    "c.update(dirty_data.highCrime)\n",
    "print (\"Positive HighCrime Instances: %.2f %%\"%(c[True]/len(dirty_data.highCrime)*100))\n",
    "print(\"Negative HighCrime Instances:  %.2f %%\"%(c[False]/len(dirty_data.highCrime)*100))"
   ]
  },
  {
   "cell_type": "markdown",
   "metadata": {},
   "source": [
    "### Encoding CommunityName features"
   ]
  },
  {
   "cell_type": "code",
   "execution_count": 43,
   "metadata": {
    "collapsed": false
   },
   "outputs": [],
   "source": [
    "d_columns = dirty_data.columns[:-1]\n",
    "d_Target = dirty_data[dirty_data.columns[-1]]\n",
    "dirty_data = pd.DataFrame(dirty_data,columns=columns)"
   ]
  },
  {
   "cell_type": "markdown",
   "metadata": {},
   "source": [
    "### fitting data to DecisionTreeClassifier"
   ]
  },
  {
   "cell_type": "code",
   "execution_count": 44,
   "metadata": {
    "collapsed": false
   },
   "outputs": [
    {
     "data": {
      "image/png": "[encoded data removed]",
      "text/plain": [
       "<matplotlib.figure.Figure at 0x174d1ab9f28>"
      ]
     },
     "metadata": {},
     "output_type": "display_data"
    }
   ],
   "source": [
    "d_X_data = dirty_data\n",
    "d_y_target = d_Target\n",
    "\n",
    "train_data_score, test_data_score = validation_curve(DecisionTreeClassifier(),d_X_data,d_y_target,param_name='max_depth',param_range=range(1,10),cv=10,scoring=\"accuracy\")\n",
    "train_score_mean =np.mean(train_data_score, axis=1)\n",
    "test_score_mean =np.mean(test_data_score, axis=1)\n",
    "\n",
    "plt.title(\"Max Depth Validation\")\n",
    "plt.xlabel(\"Depth\")\n",
    "plt.ylabel(\"Accuracy\")\n",
    "lw=2\n",
    "plt.plot(range(1,10),train_score_mean,label=\"Training score\",color=\"RED\",lw=lw)\n",
    "plt.plot(range(1,10),test_score_mean,label=\"Cross-validation score\",color=\"BLUE\",lw=lw)\n",
    "plt.show()"
   ]
  },
  {
   "cell_type": "code",
   "execution_count": 45,
   "metadata": {
    "collapsed": false
   },
   "outputs": [
    {
     "data": {
      "text/plain": [
       "DecisionTreeClassifier(class_weight=None, criterion='gini', max_depth=3,\n",
       "            max_features=None, max_leaf_nodes=None,\n",
       "            min_impurity_split=1e-07, min_samples_leaf=1,\n",
       "            min_samples_split=2, min_weight_fraction_leaf=0.0,\n",
       "            presort=False, random_state=0, splitter='best')"
      ]
     },
     "execution_count": 45,
     "metadata": {},
     "output_type": "execute_result"
    }
   ],
   "source": [
    "d_tree = DecisionTreeClassifier(random_state=0,max_depth=3)\n",
    "d_tree.fit(d_X_data,d_y_target)"
   ]
  },
  {
   "cell_type": "markdown",
   "metadata": {},
   "source": [
    "### Accuracy/Precision/Recall on dirty data set"
   ]
  },
  {
   "cell_type": "code",
   "execution_count": 46,
   "metadata": {
    "collapsed": false
   },
   "outputs": [
    {
     "name": "stdout",
     "output_type": "stream",
     "text": [
      "Accuracy on Training set: 0.8360\n",
      "Precision on Training set: 0.9003\n",
      "Recall on Training set: 0.8305\n"
     ]
    }
   ],
   "source": [
    "print(\"Accuracy on Training set: %.4f\"% (d_tree.score(d_X_data,d_y_target)))\n",
    "print(\"Precision on Training set: %.4f\"% (precision(d_y_target,d_tree.predict(d_X_data))))\n",
    "print(\"Recall on Training set: %.4f\"% (recall(d_y_target,d_tree.predict(d_X_data))))"
   ]
  },
  {
   "cell_type": "markdown",
   "metadata": {},
   "source": [
    "## Top 10 Important Features for DecisionTreeClassifier"
   ]
  },
  {
   "cell_type": "code",
   "execution_count": 47,
   "metadata": {
    "collapsed": false
   },
   "outputs": [
    {
     "name": "stdout",
     "output_type": "stream",
     "text": [
      "Top 10 Features used in classification.\n",
      "\n",
      "\n",
      "1. feature 44 (0.720020)  ==> PctKids2Par\n",
      "2. feature 3 (0.168298)  ==> racePctWhite\n",
      "3. feature 5 (0.091595)  ==> racePctHisp\n",
      "4. feature 71 (0.020087)  ==> HousVacant\n"
     ]
    }
   ],
   "source": [
    "d_importance_tree = d_tree.feature_importances_\n",
    "d_indices_tree = np.argsort(d_importance_tree)[::-1]\n",
    "print(\"Top 10 Features used in classification.\\n\\n\")\n",
    "for f in range(0,4):\n",
    "    print(\"%d. feature %d (%f)  ==> %s\" % (f + 1, d_indices_tree[f], d_importance_tree[d_indices_tree[f]],dirty_data.columns[d_indices_tree[f]]))"
   ]
  },
  {
   "cell_type": "code",
   "execution_count": 48,
   "metadata": {
    "collapsed": false
   },
   "outputs": [
    {
     "data": {
      "image/png": "[encoded data removed]",
      "text/plain": [
       "<matplotlib.figure.Figure at 0x174d19a0e48>"
      ]
     },
     "metadata": {},
     "output_type": "display_data"
    }
   ],
   "source": [
    "d_x_obj = []\n",
    "for f in range(0,4):\n",
    "    d_x_obj.append(dirty_data.columns[d_indices_tree[f]])\n",
    "d_y_pos =np.arange(len(d_x_obj))\n",
    "d_y_val =np.sort(d_importance_tree)[::-1][0:4]\n",
    "\n",
    "plt.barh(d_y_pos,d_y_val,align='center',alpha=0.9)\n",
    "plt.yticks(d_y_pos,d_x_obj)\n",
    "plt.xlabel(\"Feature Importance\")\n",
    "plt.title(\"Decision Tree Top 10 Features\")\n",
    "\n",
    "plt.show()\n"
   ]
  },
  {
   "cell_type": "markdown",
   "metadata": {},
   "source": [
    "### Decision Tree "
   ]
  },
  {
   "cell_type": "code",
   "execution_count": 49,
   "metadata": {
    "collapsed": false
   },
   "outputs": [
    {
     "data": {
      "image/png": "[encoded data removed]",
      "text/plain": [
       "<IPython.core.display.Image object>"
      ]
     },
     "execution_count": 49,
     "metadata": {},
     "output_type": "execute_result"
    }
   ],
   "source": [
    "export_graphviz(d_tree, out_file=\"d_tree.dot\", class_names=[\"True\", \"False\"],\n",
    "                feature_names=d_X_data.columns, impurity=False, filled=True)\n",
    "\n",
    "\n",
    "d_graph = pydotplus.graph_from_dot_file('d_tree.dot')\n",
    "#graph.write_png('tree.png')\n",
    "Image(d_graph.create_png())"
   ]
  },
  {
   "cell_type": "markdown",
   "metadata": {},
   "source": [
    "### 10-fold-cross-validation on dirty data"
   ]
  },
  {
   "cell_type": "code",
   "execution_count": 50,
   "metadata": {
    "collapsed": false
   },
   "outputs": [
    {
     "name": "stdout",
     "output_type": "stream",
     "text": [
      "DecisionTreeClassifier Accuracy : 0.8129 (+/- 0.0415)\n",
      "DecisionTreeClassifier Precision: 0.8775 (+/- 0.0631)\n",
      "DecisionTreeClassifier Recall: 0.8178 (+/- 0.0693)\n"
     ]
    }
   ],
   "source": [
    "tree_accuracy=cross_val_score(d_tree,d_X_data,d_y_target,cv=10)\n",
    "tree_precision = cross_val_score(d_tree,d_X_data,d_y_target,cv=10,scoring='precision')\n",
    "tree_recall =cross_val_score(d_tree,d_X_data,d_y_target,cv=10,scoring='recall')\n",
    "\n",
    "print(\"DecisionTreeClassifier Accuracy : %.4f (+/- %.4f)\"% (tree_accuracy.mean(),tree_accuracy.std()*2))\n",
    "print(\"DecisionTreeClassifier Precision: %.4f (+/- %.4f)\"% (tree_precision.mean(),tree_precision.std()*2))\n",
    "print(\"DecisionTreeClassifier Recall: %.4f (+/- %.4f)\"% (tree_recall.mean(),tree_recall.std()*2))"
   ]
  },
  {
   "cell_type": "markdown",
   "metadata": {
    "collapsed": true
   },
   "source": [
    "### a.\tAre the CV results better or worse? What does this say about the effect of missing values?"
   ]
  },
  {
   "cell_type": "markdown",
   "metadata": {
    "collapsed": false
   },
   "source": [
    "#### For the Dirty data sets , CV results arer betther compared to cleaned datasets. Because with the dirty data sets DecisionTreeClassifier can be model better compared to Cleaned Data set as  bias is present in the dataset. Missing values are replaceb by mean of the column and it will help to introduce bias in the model."
   ]
  },
  {
   "cell_type": "markdown",
   "metadata": {},
   "source": [
    "# Extra Credit"
   ]
  },
  {
   "cell_type": "markdown",
   "metadata": {},
   "source": [
    "### Random Forest\n",
    "\n",
    "#### Clean Data"
   ]
  },
  {
   "cell_type": "code",
   "execution_count": 51,
   "metadata": {
    "collapsed": false
   },
   "outputs": [
    {
     "data": {
      "text/plain": [
       "RandomForestClassifier(bootstrap=True, class_weight=None, criterion='gini',\n",
       "            max_depth=None, max_features='auto', max_leaf_nodes=None,\n",
       "            min_impurity_split=1e-07, min_samples_leaf=1,\n",
       "            min_samples_split=2, min_weight_fraction_leaf=0.0,\n",
       "            n_estimators=10, n_jobs=1, oob_score=False, random_state=0,\n",
       "            verbose=0, warm_start=False)"
      ]
     },
     "execution_count": 51,
     "metadata": {},
     "output_type": "execute_result"
    }
   ],
   "source": [
    "random_forest_clf = RandomForestClassifier(random_state=0)\n",
    "random_forest_clf.fit(X_data,y_target)"
   ]
  },
  {
   "cell_type": "markdown",
   "metadata": {},
   "source": [
    "#### Cross Validation Metrics"
   ]
  },
  {
   "cell_type": "code",
   "execution_count": 52,
   "metadata": {
    "collapsed": false
   },
   "outputs": [
    {
     "name": "stdout",
     "output_type": "stream",
     "text": [
      "DecisionTreeClassifier Accuracy : 0.7912 (+/- 0.0944)\n",
      "DecisionTreeClassifier Precision: 0.8466 (+/- 0.0598)\n",
      "DecisionTreeClassifier Recall: 0.8192 (+/- 0.2067)\n"
     ]
    }
   ],
   "source": [
    "tree_accuracy=cross_val_score(random_forest_clf,X_data,y_target,cv=10)\n",
    "tree_precision = cross_val_score(random_forest_clf,X_data,y_target,cv=10,scoring='precision')\n",
    "tree_recall =cross_val_score(random_forest_clf,X_data,y_target,cv=10,scoring='recall')\n",
    "\n",
    "print(\"DecisionTreeClassifier Accuracy : %.4f (+/- %.4f)\"% (tree_accuracy.mean(),tree_accuracy.std()*2))\n",
    "print(\"DecisionTreeClassifier Precision: %.4f (+/- %.4f)\"% (tree_precision.mean(),tree_precision.std()*2))\n",
    "print(\"DecisionTreeClassifier Recall: %.4f (+/- %.4f)\"% (tree_recall.mean(),tree_recall.std()*2))"
   ]
  },
  {
   "cell_type": "markdown",
   "metadata": {},
   "source": [
    "#### Most Predictive Features"
   ]
  },
  {
   "cell_type": "code",
   "execution_count": 53,
   "metadata": {
    "collapsed": false
   },
   "outputs": [
    {
     "name": "stdout",
     "output_type": "stream",
     "text": [
      "Top 10 Features used in classification.\n",
      "\n",
      "\n",
      "1. feature 43 (0.095354)  ==> PctFam2Par\n",
      "2. feature 3 (0.052369)  ==> racePctWhite\n",
      "3. feature 40 (0.050754)  ==> FemalePctDiv\n",
      "4. feature 28 (0.047153)  ==> PctPopUnderPov\n"
     ]
    }
   ],
   "source": [
    "importance_tree = random_forest_clf.feature_importances_\n",
    "indices_tree = np.argsort(importance_tree)[::-1]\n",
    "print(\"Top 10 Features used in classification.\\n\\n\")\n",
    "for f in range(0,4):\n",
    "    print(\"%d. feature %d (%f)  ==> %s\" % (f + 1, indices_tree[f], importance_tree[indices_tree[f]],data.columns[indices_tree[f]]))"
   ]
  },
  {
   "cell_type": "markdown",
   "metadata": {},
   "source": [
    "#### Dirty Data"
   ]
  },
  {
   "cell_type": "code",
   "execution_count": 54,
   "metadata": {
    "collapsed": false
   },
   "outputs": [
    {
     "data": {
      "text/plain": [
       "RandomForestClassifier(bootstrap=True, class_weight=None, criterion='gini',\n",
       "            max_depth=None, max_features='auto', max_leaf_nodes=None,\n",
       "            min_impurity_split=1e-07, min_samples_leaf=1,\n",
       "            min_samples_split=2, min_weight_fraction_leaf=0.0,\n",
       "            n_estimators=10, n_jobs=1, oob_score=False, random_state=0,\n",
       "            verbose=0, warm_start=False)"
      ]
     },
     "execution_count": 54,
     "metadata": {},
     "output_type": "execute_result"
    }
   ],
   "source": [
    "d_random_forest_clf = RandomForestClassifier(random_state=0)\n",
    "d_random_forest_clf.fit(d_X_data,d_y_target)"
   ]
  },
  {
   "cell_type": "markdown",
   "metadata": {},
   "source": [
    "#### Cross Validation Metrics"
   ]
  },
  {
   "cell_type": "code",
   "execution_count": 55,
   "metadata": {
    "collapsed": false
   },
   "outputs": [
    {
     "name": "stdout",
     "output_type": "stream",
     "text": [
      "DecisionTreeClassifier Accuracy : 0.8234 (+/- 0.0450)\n",
      "DecisionTreeClassifier Precision: 0.8783 (+/- 0.0573)\n",
      "DecisionTreeClassifier Recall: 0.8353 (+/- 0.0427)\n"
     ]
    }
   ],
   "source": [
    "tree_accuracy=cross_val_score(d_random_forest_clf,d_X_data,d_y_target,cv=10)\n",
    "tree_precision = cross_val_score(d_random_forest_clf,d_X_data,d_y_target,cv=10,scoring='precision')\n",
    "tree_recall =cross_val_score(d_random_forest_clf,d_X_data,d_y_target,cv=10,scoring='recall')\n",
    "\n",
    "print(\"DecisionTreeClassifier Accuracy : %.4f (+/- %.4f)\"% (tree_accuracy.mean(),tree_accuracy.std()*2))\n",
    "print(\"DecisionTreeClassifier Precision: %.4f (+/- %.4f)\"% (tree_precision.mean(),tree_precision.std()*2))\n",
    "print(\"DecisionTreeClassifier Recall: %.4f (+/- %.4f)\"% (tree_recall.mean(),tree_recall.std()*2))"
   ]
  },
  {
   "cell_type": "markdown",
   "metadata": {},
   "source": [
    "#### Most Predictive Features"
   ]
  },
  {
   "cell_type": "code",
   "execution_count": 56,
   "metadata": {
    "collapsed": false
   },
   "outputs": [
    {
     "name": "stdout",
     "output_type": "stream",
     "text": [
      "Top 10 Features used in classification.\n",
      "\n",
      "\n",
      "1. feature 43 (0.116207)  ==> PctFam2Par\n",
      "2. feature 28 (0.054828)  ==> PctPopUnderPov\n",
      "3. feature 45 (0.053003)  ==> PctYoungKids2Par\n",
      "4. feature 3 (0.046017)  ==> racePctWhite\n"
     ]
    }
   ],
   "source": [
    "d_importance_tree = d_random_forest_clf.feature_importances_\n",
    "d_indices_tree = np.argsort(d_importance_tree)[::-1]\n",
    "print(\"Top 10 Features used in classification.\\n\\n\")\n",
    "for f in range(0,4):\n",
    "    print(\"%d. feature %d (%f)  ==> %s\" % (f + 1, d_indices_tree[f], d_importance_tree[d_indices_tree[f]],dirty_data.columns[d_indices_tree[f]]))"
   ]
  },
  {
   "cell_type": "markdown",
   "metadata": {},
   "source": [
    "### Non Linear kernal for  SVM\n",
    "\n",
    "#### Clean Data"
   ]
  },
  {
   "cell_type": "code",
   "execution_count": 57,
   "metadata": {
    "collapsed": false
   },
   "outputs": [
    {
     "data": {
      "text/plain": [
       "SVC(C=1.0, cache_size=200, class_weight=None, coef0=0.0,\n",
       "  decision_function_shape=None, degree=3, gamma='auto', kernel='poly',\n",
       "  max_iter=-1, probability=False, random_state=None, shrinking=True,\n",
       "  tol=0.001, verbose=False)"
      ]
     },
     "execution_count": 57,
     "metadata": {},
     "output_type": "execute_result"
    }
   ],
   "source": [
    "non_linear_svm = svm.SVC(kernel='poly')\n",
    "non_linear_svm.fit(X_data,y_target)"
   ]
  },
  {
   "cell_type": "markdown",
   "metadata": {},
   "source": [
    "#### Cross Validation Metrics"
   ]
  },
  {
   "cell_type": "code",
   "execution_count": 58,
   "metadata": {
    "collapsed": false
   },
   "outputs": [
    {
     "name": "stdout",
     "output_type": "stream",
     "text": [
      "Non Linear kernal for SVM  Accuracy: 0.691 (+/- 0.075)\n",
      "Non Linear kernal for SVM  Precision: 0.675 (+/- 0.056)\n",
      "Non Linear kernal for SVM  Recall: 0.986 (+/- 0.035)\n"
     ]
    }
   ],
   "source": [
    "accuracy_score = cross_val_score(non_linear_svm,X_data,y_target,cv=10)\n",
    "precision_score = cross_val_score(non_linear_svm,X_data,y_target,cv=10,scoring='precision')\n",
    "recall_score = cross_val_score(non_linear_svm,X_data,y_target,cv=10,scoring='recall')\n",
    "\n",
    "print(\"Non Linear kernal for SVM  Accuracy: %0.3f (+/- %0.3f)\"%(accuracy_score.mean(),accuracy_score.std()*2))\n",
    "print(\"Non Linear kernal for SVM  Precision: %0.3f (+/- %0.3f)\"%(precision_score.mean(),precision_score.std()*2))\n",
    "print(\"Non Linear kernal for SVM  Recall: %0.3f (+/- %0.3f)\"%(recall_score.mean(),recall_score.std()*2))"
   ]
  },
  {
   "cell_type": "markdown",
   "metadata": {},
   "source": [
    "#### Dirty Data"
   ]
  },
  {
   "cell_type": "code",
   "execution_count": 59,
   "metadata": {
    "collapsed": false
   },
   "outputs": [
    {
     "data": {
      "text/plain": [
       "SVC(C=1.0, cache_size=200, class_weight=None, coef0=0.0,\n",
       "  decision_function_shape=None, degree=3, gamma='auto', kernel='poly',\n",
       "  max_iter=-1, probability=False, random_state=None, shrinking=True,\n",
       "  tol=0.001, verbose=False)"
      ]
     },
     "execution_count": 59,
     "metadata": {},
     "output_type": "execute_result"
    }
   ],
   "source": [
    "d_non_linear_svm = svm.SVC(kernel='poly')\n",
    "d_non_linear_svm.fit(d_X_data,d_y_target)"
   ]
  },
  {
   "cell_type": "markdown",
   "metadata": {},
   "source": [
    "#### Cross Validation Metrics"
   ]
  },
  {
   "cell_type": "code",
   "execution_count": 60,
   "metadata": {
    "collapsed": false
   },
   "outputs": [
    {
     "name": "stdout",
     "output_type": "stream",
     "text": [
      "Non Linear kernal for SVM Accuracy : 0.6986 (+/- 0.0332)\n",
      "Non Linear kernal for SVM Precision: 0.6788 (+/- 0.0247)\n",
      "Non Linear kernal for SVM Recall: 0.9872 (+/- 0.0128)\n"
     ]
    }
   ],
   "source": [
    "tree_accuracy=cross_val_score(d_non_linear_svm,d_X_data,d_y_target,cv=10)\n",
    "tree_precision = cross_val_score(d_non_linear_svm,d_X_data,d_y_target,cv=10,scoring='precision')\n",
    "tree_recall =cross_val_score(d_non_linear_svm,d_X_data,d_y_target,cv=10,scoring='recall')\n",
    "\n",
    "print(\"Non Linear kernal for SVM Accuracy : %.4f (+/- %.4f)\"% (tree_accuracy.mean(),tree_accuracy.std()*2))\n",
    "print(\"Non Linear kernal for SVM Precision: %.4f (+/- %.4f)\"% (tree_precision.mean(),tree_precision.std()*2))\n",
    "print(\"Non Linear kernal for SVM Recall: %.4f (+/- %.4f)\"% (tree_recall.mean(),tree_recall.std()*2))"
   ]
  },
  {
   "cell_type": "markdown",
   "metadata": {},
   "source": [
    "### GradientBoostingClassifier \n",
    "\n",
    "#### Clean Data"
   ]
  },
  {
   "cell_type": "code",
   "execution_count": 61,
   "metadata": {
    "collapsed": false
   },
   "outputs": [
    {
     "data": {
      "text/plain": [
       "GradientBoostingClassifier(criterion='friedman_mse', init=None,\n",
       "              learning_rate=1.0, loss='deviance', max_depth=1,\n",
       "              max_features=None, max_leaf_nodes=None,\n",
       "              min_impurity_split=1e-07, min_samples_leaf=1,\n",
       "              min_samples_split=2, min_weight_fraction_leaf=0.0,\n",
       "              n_estimators=100, presort='auto', random_state=0,\n",
       "              subsample=1.0, verbose=0, warm_start=False)"
      ]
     },
     "execution_count": 61,
     "metadata": {},
     "output_type": "execute_result"
    }
   ],
   "source": [
    "gradientBoostingClassifier = GradientBoostingClassifier(n_estimators=100,learning_rate=1.0,max_depth=1,random_state=0)\n",
    "gradientBoostingClassifier.fit(X_data,y_target)"
   ]
  },
  {
   "cell_type": "markdown",
   "metadata": {},
   "source": [
    "#### Cross Validation Metrics"
   ]
  },
  {
   "cell_type": "code",
   "execution_count": 62,
   "metadata": {
    "collapsed": false
   },
   "outputs": [
    {
     "name": "stdout",
     "output_type": "stream",
     "text": [
      "GradientBoostingClassifier  Accuracy: 0.789 (+/- 0.071)\n",
      "GradientBoostingClassifier  Precision: 0.843 (+/- 0.100)\n",
      "GradientBoostingClassifier  Recall: 0.826 (+/- 0.195)\n"
     ]
    }
   ],
   "source": [
    "accuracy_score = cross_val_score(gradientBoostingClassifier,X_data,y_target,cv=10)\n",
    "precision_score = cross_val_score(gradientBoostingClassifier,X_data,y_target,cv=10,scoring='precision')\n",
    "recall_score = cross_val_score(gradientBoostingClassifier,X_data,y_target,cv=10,scoring='recall')\n",
    "\n",
    "print(\"GradientBoostingClassifier  Accuracy: %0.3f (+/- %0.3f)\"%(accuracy_score.mean(),accuracy_score.std()*2))\n",
    "print(\"GradientBoostingClassifier  Precision: %0.3f (+/- %0.3f)\"%(precision_score.mean(),precision_score.std()*2))\n",
    "print(\"GradientBoostingClassifier  Recall: %0.3f (+/- %0.3f)\"%(recall_score.mean(),recall_score.std()*2))"
   ]
  },
  {
   "cell_type": "markdown",
   "metadata": {},
   "source": [
    "#### Most Predictive Features"
   ]
  },
  {
   "cell_type": "code",
   "execution_count": 63,
   "metadata": {
    "collapsed": false
   },
   "outputs": [
    {
     "name": "stdout",
     "output_type": "stream",
     "text": [
      "Top 10 Features used in classification.\n",
      "\n",
      "\n",
      "1. feature 75 (0.060000)  ==> PctVacMore6Mos\n",
      "2. feature 44 (0.060000)  ==> PctKids2Par\n",
      "3. feature 3 (0.040000)  ==> racePctWhite\n",
      "4. feature 6 (0.040000)  ==> agePct12t21\n",
      "5. feature 20 (0.030000)  ==> perCapInc\n",
      "6. feature 34 (0.030000)  ==> PctEmplManu\n",
      "7. feature 15 (0.030000)  ==> pctWInvInc\n",
      "8. feature 94 (0.030000)  ==> PctSameCity85\n",
      "9. feature 42 (0.030000)  ==> PersPerFam\n",
      "10. feature 88 (0.030000)  ==> MedOwnCostPctIncNoMtg\n"
     ]
    }
   ],
   "source": [
    "importance_tree = gradientBoostingClassifier.feature_importances_\n",
    "indices_tree = np.argsort(importance_tree)[::-1]\n",
    "print(\"Top 10 Features used in classification.\\n\\n\")\n",
    "for f in range(0,10):\n",
    "    print(\"%d. feature %d (%f)  ==> %s\" % (f + 1, indices_tree[f], importance_tree[indices_tree[f]],data.columns[indices_tree[f]]))"
   ]
  },
  {
   "cell_type": "markdown",
   "metadata": {},
   "source": [
    "#### Dirty Data"
   ]
  },
  {
   "cell_type": "code",
   "execution_count": 64,
   "metadata": {
    "collapsed": false
   },
   "outputs": [
    {
     "data": {
      "text/plain": [
       "GradientBoostingClassifier(criterion='friedman_mse', init=None,\n",
       "              learning_rate=1.0, loss='deviance', max_depth=1,\n",
       "              max_features=None, max_leaf_nodes=None,\n",
       "              min_impurity_split=1e-07, min_samples_leaf=1,\n",
       "              min_samples_split=2, min_weight_fraction_leaf=0.0,\n",
       "              n_estimators=100, presort='auto', random_state=0,\n",
       "              subsample=1.0, verbose=0, warm_start=False)"
      ]
     },
     "execution_count": 64,
     "metadata": {},
     "output_type": "execute_result"
    }
   ],
   "source": [
    "d_gradientBoostingClassifier = GradientBoostingClassifier(n_estimators=100,learning_rate=1.0,max_depth=1,random_state=0)\n",
    "d_gradientBoostingClassifier.fit(d_X_data,d_y_target)"
   ]
  },
  {
   "cell_type": "markdown",
   "metadata": {},
   "source": [
    "#### Cross Validation Metrics"
   ]
  },
  {
   "cell_type": "code",
   "execution_count": 65,
   "metadata": {
    "collapsed": false
   },
   "outputs": [
    {
     "name": "stdout",
     "output_type": "stream",
     "text": [
      "GradientBoostingClassifier  Accuracy: 0.811 (+/- 0.035)\n",
      "GradientBoostingClassifier  Precision: 0.848 (+/- 0.050)\n",
      "GradientBoostingClassifier  Recall: 0.852 (+/- 0.055)\n"
     ]
    }
   ],
   "source": [
    "accuracy_score = cross_val_score(d_gradientBoostingClassifier,d_X_data,d_y_target,cv=10)\n",
    "precision_score = cross_val_score(d_gradientBoostingClassifier,d_X_data,d_y_target,cv=10,scoring='precision')\n",
    "recall_score = cross_val_score(d_gradientBoostingClassifier,d_X_data,d_y_target,cv=10,scoring='recall')\n",
    "\n",
    "print(\"GradientBoostingClassifier  Accuracy: %0.3f (+/- %0.3f)\"%(accuracy_score.mean(),accuracy_score.std()*2))\n",
    "print(\"GradientBoostingClassifier  Precision: %0.3f (+/- %0.3f)\"%(precision_score.mean(),precision_score.std()*2))\n",
    "print(\"GradientBoostingClassifier  Recall: %0.3f (+/- %0.3f)\"%(recall_score.mean(),recall_score.std()*2))"
   ]
  },
  {
   "cell_type": "markdown",
   "metadata": {},
   "source": [
    "#### Most Predictive Features"
   ]
  },
  {
   "cell_type": "code",
   "execution_count": 66,
   "metadata": {
    "collapsed": false
   },
   "outputs": [
    {
     "name": "stdout",
     "output_type": "stream",
     "text": [
      "Top 10 Features used in classification.\n",
      "\n",
      "\n",
      "1. feature 75 (0.060000)  ==> PctVacMore6Mos\n",
      "2. feature 44 (0.060000)  ==> PctKids2Par\n",
      "3. feature 3 (0.040000)  ==> racePctWhite\n",
      "4. feature 6 (0.040000)  ==> agePct12t21\n",
      "5. feature 20 (0.030000)  ==> perCapInc\n",
      "6. feature 34 (0.030000)  ==> PctEmplManu\n",
      "7. feature 15 (0.030000)  ==> pctWInvInc\n",
      "8. feature 94 (0.030000)  ==> PctSameCity85\n",
      "9. feature 42 (0.030000)  ==> PersPerFam\n",
      "10. feature 88 (0.030000)  ==> MedOwnCostPctIncNoMtg\n"
     ]
    }
   ],
   "source": [
    "d_importance_tree = d_gradientBoostingClassifier.feature_importances_\n",
    "d_indices_tree = np.argsort(d_importance_tree)[::-1]\n",
    "print(\"Top 10 Features used in classification.\\n\\n\")\n",
    "for f in range(0,10):\n",
    "    print(\"%d. feature %d (%f)  ==> %s\" % (f + 1, d_indices_tree[f], d_importance_tree[d_indices_tree[f]],dirty_data.columns[d_indices_tree[f]]))"
   ]
  },
  {
   "cell_type": "markdown",
   "metadata": {},
   "source": [
    "## QUE:\tWhat method gives the best results?\n",
    "\n",
    "### ANS:  From the above three method,  DecisionTreeClassifier  gives better accuracy for Cleaned and  dirty  Datasets LinearSVC gives better result"
   ]
  },
  {
   "cell_type": "markdown",
   "metadata": {},
   "source": [
    "### Algorithm Comparision for Cleaned Data"
   ]
  },
  {
   "cell_type": "code",
   "execution_count": 67,
   "metadata": {
    "collapsed": false
   },
   "outputs": [
    {
     "name": "stdout",
     "output_type": "stream",
     "text": [
      "RF: 0.786191 (0.057595)\n",
      "nlSVM: 0.691397 (0.037287)\n",
      "GBoost: 0.789221 (0.035580)\n",
      "DT: 0.798244 (0.059135)\n",
      "GNB: 0.761608 (0.054241)\n",
      "SVM: 0.796234 (0.054686)\n"
     ]
    },
    {
     "data": {
      "image/png": "[encoded data removed]",
      "text/plain": [
       "<matplotlib.figure.Figure at 0x174d0686e80>"
      ]
     },
     "metadata": {},
     "output_type": "display_data"
    }
   ],
   "source": [
    "models =[]\n",
    "models.append((\"RF\",RandomForestClassifier()))\n",
    "models.append((\"nlSVM\",svm.SVC(kernel='poly')))\n",
    "models.append((\"GBoost\",GradientBoostingClassifier(n_estimators=100,learning_rate=1.0,max_depth=1,random_state=0)))\n",
    "models.append((\"DT\",DecisionTreeClassifier(random_state=0,max_depth=3)))\n",
    "models.append((\"GNB\",GaussianNB()))\n",
    "models.append((\"SVM\",svm.LinearSVC()))\n",
    "\n",
    "\n",
    "\n",
    "results=[]\n",
    "names=[]\n",
    "scoring='accuracy'\n",
    "for name,model in models:\n",
    "    kfold = model_selection.KFold(n_splits=10,random_state=0)\n",
    "    cv_results = model_selection.cross_val_score(model, X_data, y_target, cv=10, scoring=scoring)\n",
    "    results.append(cv_results)\n",
    "    names.append(name)\n",
    "    msg = \"%s: %f (%f)\" % (name, cv_results.mean(), cv_results.std())\n",
    "    print(msg)\n",
    "fig = plt.figure()\n",
    "fig.suptitle('Algorithm Comparison')\n",
    "ax = fig.add_subplot(111)\n",
    "plt.boxplot(results)\n",
    "ax.set_xticklabels(names)\n",
    "plt.show()\n",
    "    \n"
   ]
  },
  {
   "cell_type": "markdown",
   "metadata": {},
   "source": [
    "#### Algorithm Comparision for Dirty Data"
   ]
  },
  {
   "cell_type": "code",
   "execution_count": 68,
   "metadata": {
    "collapsed": false
   },
   "outputs": [
    {
     "name": "stdout",
     "output_type": "stream",
     "text": [
      "RF: 0.817406 (0.015886)\n",
      "nlSVM: 0.698607 (0.016611)\n",
      "GBoost: 0.810916 (0.017271)\n",
      "DT: 0.812946 (0.020768)\n",
      "GNB: 0.777290 (0.021370)\n",
      "SVM: 0.829974 (0.018139)\n"
     ]
    },
    {
     "data": {
      "image/png": "[encoded data removed]",
      "text/plain": [
       "<matplotlib.figure.Figure at 0x174d01ad908>"
      ]
     },
     "metadata": {},
     "output_type": "display_data"
    }
   ],
   "source": [
    "models =[]\n",
    "models.append((\"RF\",RandomForestClassifier()))\n",
    "models.append((\"nlSVM\",svm.SVC(kernel='poly')))\n",
    "models.append((\"GBoost\",GradientBoostingClassifier(n_estimators=100,learning_rate=1.0,max_depth=1,random_state=0)))\n",
    "models.append((\"DT\",DecisionTreeClassifier(random_state=0,max_depth=3)))\n",
    "models.append((\"GNB\",GaussianNB()))\n",
    "models.append((\"SVM\",svm.LinearSVC()))\n",
    "\n",
    "\n",
    "\n",
    "results=[]\n",
    "names=[]\n",
    "scoring='accuracy'\n",
    "for name,model in models:\n",
    "    kfold = model_selection.KFold(n_splits=10,random_state=0)\n",
    "    cv_results = model_selection.cross_val_score(model, d_X_data, d_y_target, cv=10, scoring=scoring)\n",
    "    results.append(cv_results)\n",
    "    names.append(name)\n",
    "    msg = \"%s: %f (%f)\" % (name, cv_results.mean(), cv_results.std())\n",
    "    print(msg)\n",
    "fig = plt.figure()\n",
    "fig.suptitle('Algorithm Comparison')\n",
    "ax = fig.add_subplot(111)\n",
    "plt.boxplot(results)\n",
    "ax.set_xticklabels(names)\n",
    "plt.show()\n",
    "    \n"
   ]
  },
  {
   "cell_type": "markdown",
   "metadata": {},
   "source": [
    "# \n",
    "\n",
    "\n",
    "## QUE:\tWhat feature(s) seem to be most consistently predictive of high crime rates?\n",
    "### ANS:  From the above methods,  'PctKids2Par' is the most consistent features in predicting High Crime Rates."
   ]
  },
  {
   "cell_type": "code",
   "execution_count": null,
   "metadata": {
    "collapsed": true
   },
   "outputs": [],
   "source": []
  }
 ],
 "metadata": {
  "anaconda-cloud": {},
  "kernelspec": {
   "display_name": "Python 3",
   "language": "python",
   "name": "python3"
  },
  "language_info": {
   "codemirror_mode": {
    "name": "ipython",
    "version": 3
   },
   "file_extension": ".py",
   "mimetype": "text/x-python",
   "name": "python",
   "nbconvert_exporter": "python",
   "pygments_lexer": "ipython3",
   "version": "3.6.0"
  }
 },
 "nbformat": 4,
 "nbformat_minor": 1
}
